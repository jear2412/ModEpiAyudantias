{
 "cells": [
  {
   "cell_type": "markdown",
   "metadata": {},
   "source": [
    "# **Neural Networks for SIR models**\n",
    "# **Keras -- Practical Session 2**\n",
    "## **Modelos Epidemiológicos, 2020**"
   ]
  },
  {
   "cell_type": "code",
   "execution_count": null,
   "metadata": {},
   "outputs": [],
   "source": [
    "import numpy as np\n",
    "import scipy as sp\n",
    "import scipy.stats as st\n",
    "import matplotlib.pyplot as plt\n",
    "import seaborn as sns\n",
    "import pandas as pd\n",
    "import statsmodels.api as sm\n",
    "from time import time\n",
    "import tqdm\n",
    "\n",
    "from scipy.integrate import solve_ivp\n",
    "from scipy.integrate import odeint\n",
    "\n",
    "from itertools import product\n",
    "\n",
    "from tensorflow.keras.models import Model, load_model, save_model\n",
    "from tensorflow.keras.layers import Input, Dense, Dropout, Activation, Concatenate\n",
    "from tensorflow.keras import optimizers\n",
    "from tensorflow.keras.utils import plot_model, model_to_dot\n",
    "\n",
    "from tensorflow.keras.callbacks import Callback, EarlyStopping, ModelCheckpoint\n",
    "import tensorflow.keras.backend as K\n",
    "\n",
    "#need to install pydot and graphviz libraries\n",
    "# to do: open your terminal and access your keras environment\n",
    "# execute the following command\n",
    "#    conda install -c anaconda pydot graphviz"
   ]
  },
  {
   "cell_type": "code",
   "execution_count": null,
   "metadata": {},
   "outputs": [],
   "source": []
  },
  {
   "cell_type": "markdown",
   "metadata": {},
   "source": [
    "## Create synthetic data"
   ]
  },
  {
   "cell_type": "code",
   "execution_count": null,
   "metadata": {},
   "outputs": [],
   "source": [
    "def sirN(y, t, beta, gamma, N):\n",
    "    S,I,R = y\n",
    "    dSdt  = -beta*I*S / N\n",
    "    dIdt  = beta*I*S / N - gamma*I\n",
    "    dRdt  = gamma*I\n",
    "    return [dSdt, dIdt, dRdt]"
   ]
  },
  {
   "cell_type": "code",
   "execution_count": null,
   "metadata": {},
   "outputs": [],
   "source": [
    "Nmin = 1\n",
    "Nmax = 1\n",
    "N = 789\n",
    "\n",
    "h = 1\n",
    "Pop = np.linspace(Nmin,Nmax,1+int((Nmax-Nmin)/h))\n",
    "print(Pop)"
   ]
  },
  {
   "cell_type": "code",
   "execution_count": null,
   "metadata": {},
   "outputs": [],
   "source": [
    "bmin = 1.5\n",
    "bmax = 2.0 \n",
    "hb = 0.005\n",
    "beta = np.linspace(bmin, bmax, 1+int((bmax-bmin)/hb))\n",
    "print(beta)"
   ]
  },
  {
   "cell_type": "code",
   "execution_count": null,
   "metadata": {},
   "outputs": [],
   "source": [
    "gmin = 0.75\n",
    "gmax = 1.25\n",
    "hg = 0.005\n",
    "gamma = np.linspace(gmin, gmax, 1+int((gmax-gmin)/hg))\n",
    "print(gamma)"
   ]
  },
  {
   "cell_type": "code",
   "execution_count": null,
   "metadata": {},
   "outputs": [],
   "source": [
    "x = product(beta, gamma, Pop)\n",
    "#print(x)"
   ]
  },
  {
   "cell_type": "code",
   "execution_count": null,
   "metadata": {
    "jupyter": {
     "source_hidden": true
    }
   },
   "outputs": [],
   "source": [
    "T = 25.\n",
    "tspan = [0., T]\n",
    "t = np.linspace(0, T, 501)\n",
    "\n",
    "print(t)"
   ]
  },
  {
   "cell_type": "code",
   "execution_count": null,
   "metadata": {},
   "outputs": [],
   "source": [
    "# storage\n",
    "sol = []\n",
    "\n",
    "for i in x:  \n",
    "    # parameters\n",
    "    bet = i[0]\n",
    "    gam = i[1]\n",
    "    n = i[2]\n",
    "\n",
    "    S0     = (N-1.)/N   # n-1.\n",
    "    I0     = 1./N       # 1.\n",
    "    R0     = 0.\n",
    "    params = (bet, gam, n)\n",
    "    y0     = [S0, I0, R0]\n",
    "\n",
    "    # solve SIR model\n",
    "    #yt = solve_ivp(sir, tspan, y0, t_eval=teval, args=params)\n",
    "    yt = odeint(sirN, y0, t, args=params)\n",
    "\n",
    "    # store solution\n",
    "    sol.append(np.hstack([bet, gam, n, S0, I0, R0, t.ravel(), (yt.T).ravel()]))\n",
    "\n",
    "print(t.shape)\n",
    "print(yt.shape)"
   ]
  },
  {
   "cell_type": "code",
   "execution_count": null,
   "metadata": {},
   "outputs": [],
   "source": [
    "sol = np.array(sol).astype(np.float32)\n",
    "print(sol.shape)"
   ]
  },
  {
   "cell_type": "code",
   "execution_count": null,
   "metadata": {},
   "outputs": [],
   "source": [
    "print(sol.min(), sol.max())\n",
    "#print(sol.min(), sol.max())"
   ]
  },
  {
   "cell_type": "markdown",
   "metadata": {},
   "source": [
    "## Data"
   ]
  },
  {
   "cell_type": "code",
   "execution_count": null,
   "metadata": {},
   "outputs": [],
   "source": [
    "#parametros\n",
    "M = 789.\n",
    "beta  = 1.89\n",
    "gamma = 0.48\n",
    "S0    = (M-1.)/M\n",
    "I0    = 1./M\n",
    "R0    = 0.\n",
    "y0    = np.array([S0, I0, R0])\n",
    "params = (beta, gamma, 1.)\n",
    "\n",
    "val_sol = odeint(sirN, y0, t, args=params)\n",
    "St = val_sol[:,0]\n",
    "It = val_sol[:,1]\n",
    "Rt = val_sol[:,2]"
   ]
  },
  {
   "cell_type": "code",
   "execution_count": null,
   "metadata": {},
   "outputs": [],
   "source": [
    "print(St.shape, It.shape, Rt.shape)"
   ]
  },
  {
   "cell_type": "code",
   "execution_count": null,
   "metadata": {},
   "outputs": [],
   "source": [
    "plt.figure(figsize=(6,4))\n",
    "plt.plot(St, label=r'$S(t)$')\n",
    "plt.plot(It, label=r'$I(t)$')\n",
    "plt.plot(Rt, label=r'$R(t)$')\n",
    "plt.xlabel('t')\n",
    "plt.ylabel('Solution')\n",
    "plt.title(r'SIR model')\n",
    "plt.legend()\n",
    "plt.show()"
   ]
  },
  {
   "cell_type": "code",
   "execution_count": null,
   "metadata": {},
   "outputs": [],
   "source": [
    "def ReLU(x):\n",
    "    y = x.copy()\n",
    "    y[y<0] = 0.\n",
    "    return y\n",
    "\n",
    "def doubleReLU(x):\n",
    "    y = x.copy()\n",
    "    y[y<0] = 0.\n",
    "    y[y>1] = 1.\n",
    "    return y"
   ]
  },
  {
   "cell_type": "code",
   "execution_count": null,
   "metadata": {},
   "outputs": [],
   "source": [
    "# add noise\n",
    "St_noise = doubleReLU(st.poisson.rvs(100.*St)/100.)\n",
    "It_noise = doubleReLU(st.poisson.rvs(100.*It)/100.)\n",
    "Rt_noise = doubleReLU(st.poisson.rvs(100.*Rt)/100.)"
   ]
  },
  {
   "cell_type": "code",
   "execution_count": null,
   "metadata": {},
   "outputs": [],
   "source": [
    "plt.figure(figsize=(15,4))\n",
    "plt.subplot(1,3,1)\n",
    "plt.plot(t, St, label='Real')\n",
    "plt.plot(t, St_noise, 'r.', label='Observed')\n",
    "plt.xlabel('t')\n",
    "plt.ylabel('Susceptible')\n",
    "plt.title(r'Susceptible $S(t)$, real and observed')\n",
    "plt.subplot(1,3,2)\n",
    "plt.plot(t, It, label='Real')\n",
    "plt.plot(t, It_noise, 'r.', label='Observed')\n",
    "plt.xlabel('t')\n",
    "plt.ylabel('Infected')\n",
    "plt.title(r'Infected $I(t)$, real and observed')\n",
    "plt.subplot(1,3,3)\n",
    "plt.plot(t, Rt, label='Real')\n",
    "plt.plot(t, Rt_noise, 'r.', label='Observed')\n",
    "plt.xlabel('t')\n",
    "plt.ylabel('Recovered')\n",
    "plt.title(r'Recovered $R(t)$, real and observed')\n",
    "plt.legend()\n",
    "plt.show()"
   ]
  },
  {
   "cell_type": "markdown",
   "metadata": {},
   "source": [
    "### Training and Test data"
   ]
  },
  {
   "cell_type": "code",
   "execution_count": null,
   "metadata": {},
   "outputs": [],
   "source": [
    "# set start and end interval for training data\n",
    "tmin_tr = 0\n",
    "tmax_tr = 161\n",
    "\n",
    "# set start and end interval for testing data\n",
    "tmin_ts = 161\n",
    "tmax_ts = 401\n",
    "\n",
    "S_train = sol[:,-1503:-1503+tmax_tr:]\n",
    "I_train = sol[:,-1002:-1002+tmax_tr:]\n",
    "R_train = sol[:,-501:-501+tmax_tr:]\n",
    "\n",
    "S_test = sol[:,-1503+tmax_tr:-1503+tmax_ts]\n",
    "I_test = sol[:,-1002+tmax_tr:-1002+tmax_ts]\n",
    "R_test = sol[:,-501+tmax_tr:-501+tmax_ts]\n",
    "\n",
    "# full interval (train + test)\n",
    "S_full = sol[:,-1503:-1503+tmax_ts]\n",
    "I_full = sol[:,-1002:-1002+tmax_ts]\n",
    "R_full = sol[:,-501:-501+tmax_ts]"
   ]
  },
  {
   "cell_type": "code",
   "execution_count": null,
   "metadata": {},
   "outputs": [],
   "source": [
    "print(S_train.shape, I_train.shape, R_train.shape)\n",
    "print(S_test.shape, I_test.shape, R_test.shape)\n",
    "print(S_full.shape, I_full.shape, R_full.shape)"
   ]
  },
  {
   "cell_type": "code",
   "execution_count": null,
   "metadata": {},
   "outputs": [],
   "source": [
    "print(I_train.min(), I_train.max())\n",
    "print(I_test.min(), I_test.max())"
   ]
  },
  {
   "cell_type": "code",
   "execution_count": null,
   "metadata": {},
   "outputs": [],
   "source": [
    "input_shape = I_train.shape[1:]\n",
    "print(input_shape)\n",
    "\n",
    "output_shape = I_full.shape[1:]\n",
    "print(output_shape)"
   ]
  },
  {
   "cell_type": "code",
   "execution_count": null,
   "metadata": {},
   "outputs": [],
   "source": [
    "# our train and test data are both concatenations of S(t), I(t), R(t) series\n",
    "X_train = [S_train, I_train, R_train]\n",
    "Y_train = np.hstack([S_full, I_full, R_full])\n",
    "print(Y_train.shape)"
   ]
  },
  {
   "cell_type": "markdown",
   "metadata": {},
   "source": [
    "## Train neural network"
   ]
  },
  {
   "cell_type": "code",
   "execution_count": null,
   "metadata": {},
   "outputs": [],
   "source": [
    "def SIR_Block(D, bname=''):\n",
    "    X = Dense(128, activation='relu', name=bname+'dense1')(D)\n",
    "    X = Dropout(0.25, name=bname+'dropout1')(X)\n",
    "    X = Dense(128, activation='relu', name=bname+'dense2')(X)\n",
    "    X = Dropout(0.25, name=bname+'dropout2')(X)\n",
    "    X = Dense(64, activation='relu', name=bname+'dense3')(X)\n",
    "    X = Dropout(0.25, name=bname+'dropout3')(X)\n",
    "    X = Dense(64, activation='relu', name=bname+'dense4')(X)\n",
    "    X = Dropout(0.25, name=bname+'dropout4')(X)\n",
    "    X = Dense(output_shape[0], activation=None, name=bname+'output')(X)\n",
    "    return X"
   ]
  },
  {
   "cell_type": "code",
   "execution_count": null,
   "metadata": {},
   "outputs": [],
   "source": [
    "def Model_3(input_shape, output_shape):\n",
    "    S = Input(shape=input_shape, name='input_S')\n",
    "    I = Input(shape=input_shape, name='input_I')\n",
    "    R = Input(shape=input_shape, name='input_R')\n",
    "    \n",
    "    XS = SIR_Block(S, bname='S_')\n",
    "    XI = SIR_Block(I, bname='I_')\n",
    "    XR = SIR_Block(R, bname='R_')\n",
    "    X = Concatenate(name='cat')([XS,XI,XR])\n",
    "    \n",
    "    model = Model([S,I,R], X, name='SIR-Model_3')\n",
    "    \n",
    "    return model"
   ]
  },
  {
   "cell_type": "code",
   "execution_count": null,
   "metadata": {},
   "outputs": [],
   "source": [
    "if 'model' in globals():\n",
    "    del model\n",
    "    model = None\n",
    "    \n",
    "model = Model_3(input_shape, output_shape)"
   ]
  },
  {
   "cell_type": "code",
   "execution_count": null,
   "metadata": {},
   "outputs": [],
   "source": [
    "model.summary()"
   ]
  },
  {
   "cell_type": "code",
   "execution_count": null,
   "metadata": {},
   "outputs": [],
   "source": [
    "# create figure of model  (uncomment after installing pydot and graphviz)\n",
    "plot_model(model, to_file='model_3.png', show_shapes=True, show_layer_names=True)"
   ]
  },
  {
   "cell_type": "markdown",
   "metadata": {},
   "source": [
    "### Customize loss function"
   ]
  },
  {
   "cell_type": "code",
   "execution_count": null,
   "metadata": {},
   "outputs": [],
   "source": [
    "def loss_SIR(y_actual, y_pred):\n",
    "    S_actual = y_actual[:,:401]\n",
    "    I_actual = y_actual[:,401:802]\n",
    "    R_actual = y_actual[:,802:]\n",
    "    S_pred = y_pred[:,:401]\n",
    "    I_pred = y_pred[:,401:802]\n",
    "    R_pred = y_pred[:,802:]\n",
    "    \n",
    "    w = np.array([1.,2.,1.])\n",
    "    L = w[0]*K.mean(K.square(S_actual - S_pred)) + w[1]*K.mean(K.square(I_actual - I_pred)) + w[2]*K.mean(K.square(R_actual - R_pred))\n",
    "    return L"
   ]
  },
  {
   "cell_type": "code",
   "execution_count": null,
   "metadata": {},
   "outputs": [],
   "source": [
    "# settings\n",
    "alpha = 5e-5\n",
    "decay = 1e-5\n",
    "pat = 20\n",
    "\n",
    "# define optimizer\n",
    "opt = optimizers.Adam(learning_rate=alpha, decay=decay)\n",
    "\n",
    "# compile model\n",
    "model.compile(optimizer=opt, loss=loss_SIR, metrics=['mae'])\n",
    "\n",
    "# early stopping settings\n",
    "path = ''\n",
    "modelname = 'SIR-Model3_01.h5'\n",
    "callbacks_list = [EarlyStopping(monitor = 'val_loss', patience=pat),\n",
    "                  ModelCheckpoint(filepath=path+modelname, monitor='val_loss', save_best_only=True)]"
   ]
  },
  {
   "cell_type": "code",
   "execution_count": null,
   "metadata": {},
   "outputs": [],
   "source": [
    "# training model\n",
    "history = model.fit(x=X_train, y=Y_train, epochs=300, batch_size=64, callbacks=callbacks_list, validation_split=0.16666,\n",
    "                    shuffle=True, verbose=1)\n",
    "\n",
    "#history = model.fit(x=I_train, y=I_full, epochs=200, batch_size=64, validation_split=0.16666, shuffle=True)"
   ]
  },
  {
   "cell_type": "code",
   "execution_count": null,
   "metadata": {},
   "outputs": [],
   "source": [
    "history_dict = history.history\n",
    "history_dict.keys()"
   ]
  },
  {
   "cell_type": "code",
   "execution_count": null,
   "metadata": {},
   "outputs": [],
   "source": [
    "# plot training history\n",
    "\n",
    "loss = history.history['loss']\n",
    "val_loss = history.history['val_loss']\n",
    "metr = history.history['mae']\n",
    "val_metr = history.history['val_mae']\n",
    "\n",
    "start = 20\n",
    "epochs = range(start, len(loss))\n",
    "\n",
    "# figure\n",
    "plt.figure(figsize=(10,5))\n",
    "plt.subplot(1,2,1)\n",
    "plt.plot(epochs, loss[start:], 'b', label='Training loss')\n",
    "plt.plot(epochs, val_loss[start:], 'g', label='Validation loss')\n",
    "plt.title('Training and validation loss')\n",
    "plt.xlabel('Epochs')\n",
    "plt.ylabel('Loss')\n",
    "plt.legend()\n",
    "plt.subplot(1,2,2)\n",
    "plt.plot(epochs, metr[start:], 'r', label='Training mae')\n",
    "plt.plot(epochs, val_metr[start:], 'g', label='Validation mae')\n",
    "plt.title('Training and validation metrics')\n",
    "plt.xlabel('Epochs')\n",
    "plt.ylabel('MAE')\n",
    "plt.legend()\n",
    "plt.show()"
   ]
  },
  {
   "cell_type": "code",
   "execution_count": null,
   "metadata": {},
   "outputs": [],
   "source": []
  },
  {
   "cell_type": "markdown",
   "metadata": {},
   "source": [
    "## Prediction"
   ]
  },
  {
   "cell_type": "code",
   "execution_count": null,
   "metadata": {},
   "outputs": [],
   "source": [
    "# downloading best saved model\n",
    "\n",
    "#if 'model' in globals():\n",
    "#    del model\n",
    "#    model = None\n",
    "#    \n",
    "#model = load_model('SIR-Model3_01.h5')"
   ]
  },
  {
   "cell_type": "code",
   "execution_count": null,
   "metadata": {},
   "outputs": [],
   "source": [
    "X_test = [St_noise[:161].reshape(1,-1), It_noise[:161].reshape(1,-1), Rt_noise[:161].reshape(1,-1)]\n",
    "#print(X_test.shape)\n",
    "\n",
    "prediction = model.predict(X_test).ravel()"
   ]
  },
  {
   "cell_type": "code",
   "execution_count": null,
   "metadata": {},
   "outputs": [],
   "source": [
    "S_pred = prediction[:401]\n",
    "I_pred = prediction[401:802]\n",
    "R_pred = prediction[802:]"
   ]
  },
  {
   "cell_type": "code",
   "execution_count": null,
   "metadata": {},
   "outputs": [],
   "source": [
    "plt.figure(figsize=(6,4))\n",
    "plt.plot(t[:tmax_tr], It_noise[:tmax_tr], 'b.', label='Observed data')\n",
    "#plt.plot(t[:tmax_tr], I_pred[:tmax_tr], 'g-', label='Real data')\n",
    "plt.plot(t[tmax_tr:tmax_ts], It_noise[tmax_tr:tmax_ts], 'r.', label='Expected')\n",
    "plt.plot(t[:tmax_ts], I_pred.ravel(), 'k-', label='Prediction')\n",
    "plt.xlabel('t')\n",
    "plt.ylabel('Infected')\n",
    "plt.title(r'Infected $I(t)$, real and observed')\n",
    "plt.legend()\n",
    "plt.show()"
   ]
  },
  {
   "cell_type": "code",
   "execution_count": null,
   "metadata": {},
   "outputs": [],
   "source": [
    "plt.figure(figsize=(15,4))\n",
    "plt.subplot(1,3,1)\n",
    "plt.plot(t[:tmax_tr], St_noise[:tmax_tr], 'b.', label='Observed data')\n",
    "plt.plot(t[:tmax_ts], St[:tmax_ts], 'g-', label='Real data')\n",
    "plt.plot(t[tmax_tr:tmax_ts], St_noise[tmax_tr:tmax_ts], 'r.', label='Expected')\n",
    "plt.plot(t[:tmax_ts], S_pred.ravel(), 'k-', label='Prediction')\n",
    "plt.xlabel('t')\n",
    "plt.ylabel('Susceptible')\n",
    "plt.title(r'Susceptible $S(t)$, real and observed')\n",
    "plt.subplot(1,3,2)\n",
    "plt.plot(t[:tmax_tr], It_noise[:tmax_tr], 'b.', label='Observed data')\n",
    "plt.plot(t[:tmax_ts], It[:tmax_ts], 'g-', label='Real data')\n",
    "plt.plot(t[tmax_tr:tmax_ts], It_noise[tmax_tr:tmax_ts], 'r.', label='Expected')\n",
    "plt.plot(t[:tmax_ts], I_pred.ravel(), 'k-', label='Prediction')\n",
    "plt.xlabel('t')\n",
    "plt.ylabel('Infected')\n",
    "plt.title(r'Infected $I(t)$, real and observed')\n",
    "plt.subplot(1,3,3)\n",
    "plt.plot(t[:tmax_tr], Rt_noise[:tmax_tr], 'b.', label='Observed data')\n",
    "plt.plot(t[:tmax_ts], Rt[:tmax_ts], 'g-', label='Real data')\n",
    "plt.plot(t[tmax_tr:tmax_ts], Rt_noise[tmax_tr:tmax_ts], 'r.', label='Expected')\n",
    "plt.plot(t[:tmax_ts], R_pred.ravel(), 'k-', label='Prediction')\n",
    "plt.xlabel('t')\n",
    "plt.ylabel('Recovered')\n",
    "plt.title(r'Recovered $R(t)$, real and observed')\n",
    "plt.legend()\n",
    "plt.show()"
   ]
  },
  {
   "cell_type": "code",
   "execution_count": null,
   "metadata": {},
   "outputs": [],
   "source": []
  }
 ],
 "metadata": {
  "kernelspec": {
   "display_name": "Python 3",
   "language": "python",
   "name": "python3"
  },
  "language_info": {
   "codemirror_mode": {
    "name": "ipython",
    "version": 3
   },
   "file_extension": ".py",
   "mimetype": "text/x-python",
   "name": "python",
   "nbconvert_exporter": "python",
   "pygments_lexer": "ipython3",
   "version": "3.6.12"
  }
 },
 "nbformat": 4,
 "nbformat_minor": 4
}
