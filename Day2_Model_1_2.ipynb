{
 "cells": [
  {
   "cell_type": "markdown",
   "metadata": {},
   "source": [
    "# **Neural Networks for SIR models**\n",
    "\n",
    "# **Keras -- Practical Session 2**\n",
    "## **Modelos Epidemiológicos, 2020**"
   ]
  },
  {
   "cell_type": "code",
   "execution_count": null,
   "metadata": {},
   "outputs": [],
   "source": [
    "import numpy as np\n",
    "import scipy as sp\n",
    "import scipy.stats as st\n",
    "import matplotlib.pyplot as plt\n",
    "import seaborn as sns\n",
    "import pandas as pd\n",
    "import statsmodels.api as sm\n",
    "from time import time\n",
    "import tqdm\n",
    "\n",
    "from scipy.integrate import solve_ivp\n",
    "from scipy.integrate import odeint\n",
    "\n",
    "from itertools import product\n",
    "\n",
    "from tensorflow.keras.models import Model, load_model, save_model\n",
    "from tensorflow.keras.layers import Input, Dense, Dropout, Activation\n",
    "from tensorflow.keras import optimizers\n",
    "from tensorflow.keras.utils import plot_model, model_to_dot\n",
    "\n",
    "from tensorflow.keras.callbacks import Callback, EarlyStopping, ModelCheckpoint\n",
    "\n",
    "#need to install pydot and graphviz libraries\n",
    "# to do: open your terminal and access your keras environment\n",
    "# execute the following command\n",
    "#    conda install -c anaconda pydot graphviz"
   ]
  },
  {
   "cell_type": "code",
   "execution_count": null,
   "metadata": {},
   "outputs": [],
   "source": []
  },
  {
   "cell_type": "markdown",
   "metadata": {},
   "source": [
    "## Create synthetic data"
   ]
  },
  {
   "cell_type": "code",
   "execution_count": null,
   "metadata": {},
   "outputs": [],
   "source": [
    "def sirN(y, t, beta, gamma, N):\n",
    "    S,I,R = y\n",
    "    dSdt  = -beta*I*S / N\n",
    "    dIdt  = beta*I*S / N - gamma*I\n",
    "    dRdt  = gamma*I\n",
    "    return [dSdt, dIdt, dRdt]"
   ]
  },
  {
   "cell_type": "code",
   "execution_count": null,
   "metadata": {},
   "outputs": [],
   "source": [
    "Nmin = 1\n",
    "Nmax = 1\n",
    "N = 789\n",
    "\n",
    "h = 1\n",
    "Pop = np.linspace(Nmin,Nmax,1+int((Nmax-Nmin)/h))\n",
    "print(Pop)"
   ]
  },
  {
   "cell_type": "code",
   "execution_count": null,
   "metadata": {},
   "outputs": [],
   "source": [
    "bmin = 1.5\n",
    "bmax = 2.0 \n",
    "hb = 0.005\n",
    "beta = np.linspace(bmin, bmax, 1+int((bmax-bmin)/hb))\n",
    "print(beta)"
   ]
  },
  {
   "cell_type": "code",
   "execution_count": null,
   "metadata": {},
   "outputs": [],
   "source": [
    "gmin = 0.75\n",
    "gmax = 1.25\n",
    "hg = 0.005\n",
    "gamma = np.linspace(gmin, gmax, 1+int((gmax-gmin)/hg))\n",
    "print(gamma)"
   ]
  },
  {
   "cell_type": "code",
   "execution_count": null,
   "metadata": {},
   "outputs": [],
   "source": [
    "x = product(beta, gamma, Pop)\n",
    "#print(x)"
   ]
  },
  {
   "cell_type": "code",
   "execution_count": null,
   "metadata": {},
   "outputs": [],
   "source": [
    "T = 25.\n",
    "tspan = [0., T]\n",
    "t = np.linspace(0, T, 501)\n",
    "\n",
    "print(t)"
   ]
  },
  {
   "cell_type": "code",
   "execution_count": null,
   "metadata": {},
   "outputs": [],
   "source": [
    "# storage\n",
    "sol = []\n",
    "\n",
    "for i in x:  \n",
    "    # parameters\n",
    "    bet = i[0]\n",
    "    gam = i[1]\n",
    "    n = i[2]\n",
    "\n",
    "    S0     = (N-1.)/N   # n-1.\n",
    "    I0     = 1./N       # 1.\n",
    "    R0     = 0.\n",
    "    params = (bet, gam, n)\n",
    "    y0     = [S0, I0, R0]\n",
    "\n",
    "    # solve SIR model\n",
    "    #yt = solve_ivp(sir, tspan, y0, t_eval=teval, args=params)\n",
    "    yt = odeint(sirN, y0, t, args=params)\n",
    "\n",
    "    # store solution\n",
    "    sol.append(np.hstack([bet, gam, n, S0, I0, R0, t.ravel(), (yt.T).ravel()]))\n",
    "\n",
    "print(t.shape)\n",
    "print(yt.shape)"
   ]
  },
  {
   "cell_type": "code",
   "execution_count": null,
   "metadata": {},
   "outputs": [],
   "source": [
    "sol = np.array(sol).astype(np.float32)\n",
    "print(sol.shape)"
   ]
  },
  {
   "cell_type": "code",
   "execution_count": null,
   "metadata": {},
   "outputs": [],
   "source": [
    "print(sol.min(), sol.max())\n",
    "#print(sol.min(), sol.max())"
   ]
  },
  {
   "cell_type": "markdown",
   "metadata": {},
   "source": [
    "## Data"
   ]
  },
  {
   "cell_type": "code",
   "execution_count": null,
   "metadata": {},
   "outputs": [],
   "source": [
    "#parametros\n",
    "M = 789.\n",
    "beta  = 1.89\n",
    "gamma = 0.48\n",
    "S0    = (M-1.)/M\n",
    "I0    = 1./M\n",
    "R0    = 0.\n",
    "y0    = np.array([S0, I0, R0])\n",
    "params = (beta, gamma, 1.)\n",
    "\n",
    "val_sol = odeint(sirN, y0, t, args=params)\n",
    "St = val_sol[:,0]\n",
    "It = val_sol[:,1]\n",
    "Rt = val_sol[:,2]"
   ]
  },
  {
   "cell_type": "code",
   "execution_count": null,
   "metadata": {},
   "outputs": [],
   "source": [
    "print(St.shape, It.shape, Rt.shape)"
   ]
  },
  {
   "cell_type": "code",
   "execution_count": null,
   "metadata": {},
   "outputs": [],
   "source": [
    "plt.figure(figsize=(6,4))\n",
    "plt.plot(St, label=r'$S(t)$')\n",
    "plt.plot(It, label=r'$I(t)$')\n",
    "plt.plot(Rt, label=r'$R(t)$')\n",
    "plt.xlabel('t')\n",
    "plt.ylabel('Solution')\n",
    "plt.title(r'SIR model')\n",
    "plt.legend()\n",
    "plt.show()"
   ]
  },
  {
   "cell_type": "code",
   "execution_count": null,
   "metadata": {},
   "outputs": [],
   "source": [
    "# add noise to I\n",
    "It_noise = st.poisson.rvs(100.*It)/100."
   ]
  },
  {
   "cell_type": "code",
   "execution_count": null,
   "metadata": {},
   "outputs": [],
   "source": [
    "plt.figure(figsize=(6,4))\n",
    "plt.plot(t, It, label='Real')\n",
    "plt.plot(t, It_noise, 'r.', label='Observed')\n",
    "plt.xlabel('t')\n",
    "plt.ylabel('Infected')\n",
    "plt.title(r'Infected $I(t)$, real and observed')\n",
    "plt.legend()\n",
    "plt.show()"
   ]
  },
  {
   "cell_type": "markdown",
   "metadata": {},
   "source": [
    "### Training and Test data"
   ]
  },
  {
   "cell_type": "code",
   "execution_count": null,
   "metadata": {},
   "outputs": [],
   "source": [
    "# set start and end interval for training data\n",
    "tmin_tr = 0\n",
    "tmax_tr = 161\n",
    "\n",
    "# set start and end interval for testing data\n",
    "tmin_ts = 161\n",
    "tmax_ts = 401\n",
    "\n",
    "S_train = sol[:,-1503:-1503+tmax_tr:]\n",
    "I_train = sol[:,-1002:-1002+tmax_tr:]\n",
    "R_train = sol[:,-501:-501+tmax_tr:]\n",
    "\n",
    "S_test = sol[:,-1503+tmax_tr:-1503+tmax_ts]\n",
    "I_test = sol[:,-1002+tmax_tr:-1002+tmax_ts]\n",
    "R_test = sol[:,-501+tmax_tr:-501+tmax_ts]\n",
    "\n",
    "# full interval (train + test)\n",
    "I_full = sol[:,-1002:-1002+tmax_ts]"
   ]
  },
  {
   "cell_type": "code",
   "execution_count": null,
   "metadata": {},
   "outputs": [],
   "source": [
    "print(S_train.shape, I_train.shape, R_train.shape)\n",
    "print(S_test.shape, I_test.shape, R_test.shape)\n",
    "print(I_full.shape)"
   ]
  },
  {
   "cell_type": "code",
   "execution_count": null,
   "metadata": {},
   "outputs": [],
   "source": [
    "print(I_train.min(), I_train.max())\n",
    "print(I_test.min(), I_test.max())"
   ]
  },
  {
   "cell_type": "code",
   "execution_count": null,
   "metadata": {},
   "outputs": [],
   "source": [
    "input_shape = I_train.shape[1:]\n",
    "print(input_shape)\n",
    "\n",
    "output_shape = I_full.shape[1:]\n",
    "print(output_shape)"
   ]
  },
  {
   "cell_type": "markdown",
   "metadata": {},
   "source": [
    "## Train neural network"
   ]
  },
  {
   "cell_type": "code",
   "execution_count": null,
   "metadata": {},
   "outputs": [],
   "source": [
    "def Model_1(input_shape, output_shape):\n",
    "    I = Input(shape=input_shape, name='input')\n",
    "    X = Dense(128, activation='relu', name='dense1')(I)\n",
    "    X = Dropout(0.25, name='dropout1')(X)\n",
    "    X = Dense(128, activation='relu', name='dense2')(I)\n",
    "    X = Dropout(0.25, name='dropout2')(X)\n",
    "    X = Dense(64, activation='relu', name='dense3')(X)\n",
    "    X = Dropout(0.25, name='dropout3')(X)\n",
    "    X = Dense(64, activation='relu', name='dense4')(X)\n",
    "    X = Dropout(0.25, name='dropout4')(X)\n",
    "    X = Dense(output_shape[0], activation=None, name='output')(X)\n",
    "    \n",
    "    model = Model(I, X, name='SIR-Model_1')\n",
    "    return model"
   ]
  },
  {
   "cell_type": "code",
   "execution_count": null,
   "metadata": {},
   "outputs": [],
   "source": [
    "if 'model' in globals():\n",
    "    del model\n",
    "    model = None\n",
    "    \n",
    "model = Model_1(input_shape, output_shape)"
   ]
  },
  {
   "cell_type": "code",
   "execution_count": null,
   "metadata": {},
   "outputs": [],
   "source": [
    "model.summary()"
   ]
  },
  {
   "cell_type": "code",
   "execution_count": null,
   "metadata": {},
   "outputs": [],
   "source": [
    "# create figure of model  (uncomment after installing pydot and graphviz)\n",
    "plot_model(model, to_file='model_1.png', show_shapes=True, show_layer_names=True)"
   ]
  },
  {
   "cell_type": "code",
   "execution_count": null,
   "metadata": {},
   "outputs": [],
   "source": [
    "# settings\n",
    "alpha = 1e-4\n",
    "decay = 1e-5\n",
    "pat = 20         # parameter for early stopping\n",
    "\n",
    "#define optimizer\n",
    "opt = optimizers.Adam(learning_rate=alpha, decay=decay)\n",
    "\n",
    "# compile model\n",
    "model.compile(optimizer=opt, loss='mse', metrics=['mae'])\n",
    "\n",
    "# early stopping settings\n",
    "path = ''\n",
    "modelname = 'SIR-Model1_01.h5'\n",
    "callbacks_list = [EarlyStopping(monitor='val_loss', patience=pat),\n",
    "                  ModelCheckpoint(filepath=path+modelname, monitor='val_loss', save_best_only=True)]"
   ]
  },
  {
   "cell_type": "code",
   "execution_count": null,
   "metadata": {},
   "outputs": [],
   "source": [
    "# training model\n",
    "history = model.fit(x=I_train, y=I_full, epochs=200, batch_size=64, callbacks=callbacks_list, validation_split=0.16666,\n",
    "                    shuffle=True, verbose=1)\n",
    "\n",
    "#history = model.fit(x=I_train, y=I_full, epochs=200, batch_size=64, validation_split=0.16666, shuffle=True)"
   ]
  },
  {
   "cell_type": "code",
   "execution_count": null,
   "metadata": {},
   "outputs": [],
   "source": [
    "history_dict = history.history\n",
    "history_dict.keys()"
   ]
  },
  {
   "cell_type": "code",
   "execution_count": null,
   "metadata": {},
   "outputs": [],
   "source": [
    "# plot training history\n",
    "\n",
    "loss = history.history['loss']\n",
    "val_loss = history.history['val_loss']\n",
    "metr = history.history['mae']\n",
    "val_metr = history.history['val_mae']\n",
    "\n",
    "start = 20\n",
    "epochs = range(start, len(loss))\n",
    "\n",
    "# figure\n",
    "plt.figure(figsize=(10,5))\n",
    "plt.subplot(1,2,1)\n",
    "plt.plot(epochs, loss[start:], 'b', label='Training loss')\n",
    "plt.plot(epochs, val_loss[start:], 'g', label='Validation loss')\n",
    "plt.title('Training and validation loss')\n",
    "plt.xlabel('Epochs')\n",
    "plt.ylabel('Loss')\n",
    "plt.legend()\n",
    "plt.subplot(1,2,2)\n",
    "plt.plot(epochs, metr[start:], 'r', label='Training mae')\n",
    "plt.plot(epochs, val_metr[start:], 'g', label='Validation mae')\n",
    "plt.title('Training and validation metrics')\n",
    "plt.xlabel('Epochs')\n",
    "plt.ylabel('MAE')\n",
    "plt.legend()\n",
    "plt.show()"
   ]
  },
  {
   "cell_type": "code",
   "execution_count": null,
   "metadata": {},
   "outputs": [],
   "source": []
  },
  {
   "cell_type": "markdown",
   "metadata": {},
   "source": [
    "## Prediction"
   ]
  },
  {
   "cell_type": "code",
   "execution_count": null,
   "metadata": {},
   "outputs": [],
   "source": [
    "# downloading best saved model\n",
    "\n",
    "if 'model' in globals():\n",
    "    del model\n",
    "    model = None\n",
    "    \n",
    "model = load_model('SIR-Model1_01.h5')"
   ]
  },
  {
   "cell_type": "code",
   "execution_count": null,
   "metadata": {},
   "outputs": [],
   "source": [
    "Y_test = It_noise[:tmax_tr].reshape(1,-1)\n",
    "print(Y_test.shape)\n",
    "\n",
    "prediction = model.predict(Y_test)"
   ]
  },
  {
   "cell_type": "code",
   "execution_count": null,
   "metadata": {},
   "outputs": [],
   "source": [
    "plt.figure(figsize=(6,4))\n",
    "plt.plot(t[:tmax_tr], It_noise[:tmax_tr], 'b.', label='Observed data')\n",
    "plt.plot(t[:tmax_tr], It[:tmax_tr], 'g-', label='Real data')\n",
    "plt.plot(t[tmax_tr:tmax_ts], It_noise[tmax_tr:tmax_ts], 'r.', label='Expected')\n",
    "plt.plot(t[:tmax_ts], prediction.ravel(), 'k-', label='Prediction')\n",
    "plt.xlabel('t')\n",
    "plt.ylabel('Infected')\n",
    "plt.title(r'Infected $I(t)$, real and observed')\n",
    "plt.legend()\n",
    "plt.show()"
   ]
  },
  {
   "cell_type": "code",
   "execution_count": null,
   "metadata": {},
   "outputs": [],
   "source": [
    "plt.figure(figsize=(6,4))\n",
    "plt.plot(t[:tmax_tr], It_noise[:tmax_tr], 'r.', label='Expected')\n",
    "plt.plot(t[:tmax_tr], prediction.ravel()[:tmax_tr], 'k-', label='Prediction')\n",
    "plt.xlabel('t')\n",
    "plt.ylabel('Infected')\n",
    "plt.title(r'Infected $I(t)$, real and observed')\n",
    "plt.legend()\n",
    "plt.show()"
   ]
  },
  {
   "cell_type": "code",
   "execution_count": null,
   "metadata": {},
   "outputs": [],
   "source": [
    "plt.figure(figsize=(6,4))\n",
    "plt.plot(t[tmax_tr:tmax_ts], It_noise[tmax_tr:tmax_ts], 'r.', label='Expected')\n",
    "plt.plot(t[tmax_tr:tmax_ts], prediction.ravel()[tmax_tr:tmax_ts], 'k-', label='Prediction')\n",
    "plt.xlabel('t')\n",
    "plt.ylabel('Infected')\n",
    "plt.title(r'Infected $I(t)$, real and observed')\n",
    "plt.legend()\n",
    "plt.show()"
   ]
  },
  {
   "cell_type": "code",
   "execution_count": null,
   "metadata": {},
   "outputs": [],
   "source": []
  },
  {
   "cell_type": "markdown",
   "metadata": {},
   "source": [
    "## Training a second model (to predict S, I, R)"
   ]
  },
  {
   "cell_type": "markdown",
   "metadata": {},
   "source": [
    "### Training and Test data"
   ]
  },
  {
   "cell_type": "code",
   "execution_count": null,
   "metadata": {},
   "outputs": [],
   "source": [
    "tmin_tr = 0\n",
    "tmax_tr = 161\n",
    "\n",
    "tmin_ts = 161\n",
    "tmax_ts = 401\n",
    "\n",
    "X_tr = sol[:,-1002:-1002+tmax_tr:]\n",
    "\n",
    "# our Y data is a concatenation of the S(t), I(t) and R(t) information\n",
    "Y_tr = np.hstack([sol[:,-1503:-1503+tmax_ts:], sol[:,-1002:-1002+tmax_ts:], sol[:,-501:-501+tmax_ts:]])"
   ]
  },
  {
   "cell_type": "code",
   "execution_count": null,
   "metadata": {},
   "outputs": [],
   "source": [
    "print(X_tr.shape, Y_tr.shape)"
   ]
  },
  {
   "cell_type": "code",
   "execution_count": null,
   "metadata": {},
   "outputs": [],
   "source": [
    "print(X_tr.min(), X_tr.max())\n",
    "print(Y_tr.min(), Y_tr.max())"
   ]
  },
  {
   "cell_type": "code",
   "execution_count": null,
   "metadata": {},
   "outputs": [],
   "source": [
    "input_shape = X_tr.shape[1:]\n",
    "print(input_shape)\n",
    "\n",
    "output_shape =Y_tr.shape[1:]\n",
    "print(output_shape)"
   ]
  },
  {
   "cell_type": "markdown",
   "metadata": {},
   "source": [
    "## Train neural network"
   ]
  },
  {
   "cell_type": "code",
   "execution_count": null,
   "metadata": {},
   "outputs": [],
   "source": [
    "def Model_2(input_shape, output_shape):\n",
    "    I = Input(shape=input_shape, name='input')\n",
    "    X = Dense(256, activation='relu', name='dense0')(I)\n",
    "    X = Dropout(0.25, name='dropout0')(X)\n",
    "    X = Dense(256, activation='relu', name='dense1')(I)\n",
    "    X = Dropout(0.25, name='dropout1')(X)\n",
    "    X = Dense(128, activation='relu', name='dense2')(X)\n",
    "    X = Dropout(0.25, name='dropout2')(X)\n",
    "    X = Dense(128, activation='relu', name='dense3')(X)\n",
    "    X = Dropout(0.25, name='dropout3')(X)\n",
    "    X = Dense(64, activation='relu', name='dense4')(X)\n",
    "    X = Dropout(0.25, name='dropout4')(X)\n",
    "    X = Dense(output_shape[0], activation='sigmoid', name='output')(X)\n",
    "    \n",
    "    model = Model(I, X, name='SIR-Model_2')\n",
    "    return model"
   ]
  },
  {
   "cell_type": "code",
   "execution_count": null,
   "metadata": {},
   "outputs": [],
   "source": [
    "if 'model' in globals():\n",
    "    del model\n",
    "    model = None\n",
    "    \n",
    "model = Model_2(input_shape, output_shape)"
   ]
  },
  {
   "cell_type": "code",
   "execution_count": null,
   "metadata": {},
   "outputs": [],
   "source": [
    "model.summary()"
   ]
  },
  {
   "cell_type": "code",
   "execution_count": null,
   "metadata": {},
   "outputs": [],
   "source": [
    "# create figure of model  (uncomment after installing pydot and graphviz)\n",
    "plot_model(model, to_file='model_2.png', show_shapes=True, show_layer_names=True)"
   ]
  },
  {
   "cell_type": "markdown",
   "metadata": {
    "jupyter": {
     "source_hidden": true
    }
   },
   "source": [
    "<img src='model_2.png'/>"
   ]
  },
  {
   "cell_type": "code",
   "execution_count": null,
   "metadata": {},
   "outputs": [],
   "source": [
    "# settings\n",
    "alpha = 1e-4\n",
    "decay = 1e-6\n",
    "pat = 20\n",
    "\n",
    "# define optimizer\n",
    "opt = optimizers.Adam(learning_rate=alpha, decay=decay)\n",
    "\n",
    "# compile model\n",
    "model.compile(optimizer=opt, loss='mae', metrics=['mse'])\n",
    "\n",
    "# early stopping settings\n",
    "path = ''\n",
    "modelname = 'SIR-Model2_01.h5'\n",
    "callbacks_list = [EarlyStopping(monitor = 'val_loss', patience=pat),\n",
    "                  ModelCheckpoint(filepath=path+modelname, monitor='val_loss', save_best_only=True)]"
   ]
  },
  {
   "cell_type": "code",
   "execution_count": null,
   "metadata": {},
   "outputs": [],
   "source": [
    "# training model\n",
    "history = model.fit(x=X_tr, y=Y_tr, epochs=400, batch_size=64, callbacks=callbacks_list, validation_split=0.16666,\n",
    "                    shuffle=True, verbose=1)\n",
    "\n",
    "#history = model.fit(x=I_train, y=I_full, epochs=200, batch_size=64, validation_split=0.16666, shuffle=True)"
   ]
  },
  {
   "cell_type": "code",
   "execution_count": null,
   "metadata": {},
   "outputs": [],
   "source": [
    "history_dict = history.history\n",
    "history_dict.keys()"
   ]
  },
  {
   "cell_type": "code",
   "execution_count": null,
   "metadata": {},
   "outputs": [],
   "source": [
    "keys = list(history_dict.keys())"
   ]
  },
  {
   "cell_type": "code",
   "execution_count": null,
   "metadata": {},
   "outputs": [],
   "source": [
    "# plot training history\n",
    "\n",
    "loss = history.history[keys[0]]\n",
    "metr = history.history[keys[1]]\n",
    "val_loss = history.history[keys[2]]\n",
    "val_metr = history.history[keys[3]]\n",
    "\n",
    "start = 30\n",
    "epochs = range(start, len(loss))\n",
    "\n",
    "# figure\n",
    "plt.figure(figsize=(10,5))\n",
    "plt.subplot(1,2,1)\n",
    "plt.plot(epochs, loss[start:], 'b', label='Training loss')\n",
    "plt.plot(epochs, val_loss[start:], 'g', label='Validation loss')\n",
    "plt.title('Training and validation loss')\n",
    "plt.xlabel('Epochs')\n",
    "plt.ylabel('Loss')\n",
    "plt.legend()\n",
    "plt.subplot(1,2,2)\n",
    "plt.plot(epochs, metr[start:], 'r', label='Training mse')\n",
    "plt.plot(epochs, val_metr[start:], 'g', label='Validation mse')\n",
    "plt.title('Training and validation metrics')\n",
    "plt.xlabel('Epochs')\n",
    "plt.ylabel('MAE')\n",
    "plt.legend()\n",
    "plt.show()"
   ]
  },
  {
   "cell_type": "code",
   "execution_count": null,
   "metadata": {},
   "outputs": [],
   "source": []
  },
  {
   "cell_type": "markdown",
   "metadata": {},
   "source": [
    "## Prediction"
   ]
  },
  {
   "cell_type": "code",
   "execution_count": null,
   "metadata": {},
   "outputs": [],
   "source": [
    "# downloading best saved model\n",
    "\n",
    "if 'model' in globals():\n",
    "    del model\n",
    "    model = None\n",
    "    \n",
    "model = load_model('SIR-Model2_01.h5')"
   ]
  },
  {
   "cell_type": "code",
   "execution_count": null,
   "metadata": {},
   "outputs": [],
   "source": [
    "#Y_test = It_noise[:tmax_tr].reshape(1,-1)\n",
    "Y_test = It[:tmax_tr].reshape(1,-1)\n",
    "print(Y_test.shape)\n",
    "\n",
    "prediction = model.predict(Y_test)\n",
    "print(prediction.shape)"
   ]
  },
  {
   "cell_type": "code",
   "execution_count": null,
   "metadata": {},
   "outputs": [],
   "source": [
    "def moving_average(x, n=3) :\n",
    "    ret = np.cumsum(x)\n",
    "    ret[n:] = ret[n:] - ret[:-n]\n",
    "    return ret[n-1:] / n"
   ]
  },
  {
   "cell_type": "code",
   "execution_count": null,
   "metadata": {},
   "outputs": [],
   "source": [
    "ww = 21\n",
    "\n",
    "S_ma = moving_average(prediction[0,0:1*tmax_ts], n=ww)\n",
    "I_ma = moving_average(prediction[0,1*tmax_ts:2*tmax_ts], n=ww)\n",
    "R_ma = moving_average(prediction[0,2*tmax_ts:3*tmax_ts], n=ww)"
   ]
  },
  {
   "cell_type": "code",
   "execution_count": null,
   "metadata": {},
   "outputs": [],
   "source": [
    "labels = [r'$S(t)$', r'$I(t)$', r'$R(t)$']\n",
    "titles = ['Susceptible', 'Infected', 'Removed']\n",
    "plt.figure(figsize=(18,4))\n",
    "for i in range(0,3):\n",
    "    plt.subplot(1,3,i+1)\n",
    "    if i == 1:\n",
    "        plt.plot(t[:tmax_tr], It_noise[:tmax_tr], 'b.', label='Observed data')\n",
    "        #plt.plot(t[tmax_tr:tmax_ts], It_noise[tmax_tr:tmax_ts], 'r.', label='Expected')\n",
    "    if i == 0:\n",
    "        plt.plot(t[:tmax_tr], St[:tmax_tr], 'g-', label='Real data')\n",
    "        plt.plot(t[tmax_tr:tmax_ts], St[tmax_tr:tmax_ts], 'r-', label='Expected')\n",
    "        plt.plot(t[ww-1:tmax_ts], S_ma, 'k-', label='Prediction')\n",
    "    elif i == 1:\n",
    "        plt.plot(t[:tmax_tr], It[:tmax_tr], 'g-', label='Real data')\n",
    "        plt.plot(t[tmax_tr:tmax_ts], It[tmax_tr:tmax_ts], 'r-', label='Expected')\n",
    "        plt.plot(t[ww-1:tmax_ts], I_ma, 'k-', label='Prediction')\n",
    "    elif i == 2:\n",
    "        plt.plot(t[:tmax_tr], Rt[:tmax_tr], 'g-', label='Real data')\n",
    "        plt.plot(t[tmax_tr:tmax_ts], Rt[tmax_tr:tmax_ts], 'r-', label='Expected')\n",
    "        plt.plot(t[ww-1:tmax_ts], R_ma, 'k-', label='Prediction')\n",
    "        \n",
    "    #plt.plot(t[:tmax_ts], prediction.ravel()[i*tmax_ts:(i+1)*tmax_ts], 'k-', label='Prediction')\n",
    "    plt.xlabel('t')\n",
    "    plt.ylabel(labels[i])\n",
    "    plt.title(titles[i] + ' ' + labels[i] + ', real and observed')\n",
    "    plt.legend()\n",
    "plt.show()"
   ]
  },
  {
   "cell_type": "code",
   "execution_count": null,
   "metadata": {},
   "outputs": [],
   "source": []
  }
 ],
 "metadata": {
  "kernelspec": {
   "display_name": "Python 3",
   "language": "python",
   "name": "python3"
  },
  "language_info": {
   "codemirror_mode": {
    "name": "ipython",
    "version": 3
   },
   "file_extension": ".py",
   "mimetype": "text/x-python",
   "name": "python",
   "nbconvert_exporter": "python",
   "pygments_lexer": "ipython3",
   "version": "3.6.12"
  }
 },
 "nbformat": 4,
 "nbformat_minor": 4
}
